{
  "nbformat": 4,
  "nbformat_minor": 0,
  "metadata": {
    "colab": {
      "provenance": []
    },
    "kernelspec": {
      "name": "python3",
      "display_name": "Python 3"
    },
    "language_info": {
      "name": "python"
    }
  },
  "cells": [
    {
      "cell_type": "markdown",
      "source": [
        "# **Модель для распознавания движений каратэномичи по углам конечностей (все файлы грузятся сслева)**"
      ],
      "metadata": {
        "id": "Veq4g_CmaH8k"
      }
    },
    {
      "cell_type": "code",
      "execution_count": null,
      "metadata": {
        "id": "xoYaWLitfqG2"
      },
      "outputs": [],
      "source": [
        "#====================================================================\n",
        "# @title 1.1 ЗАГРУЗКА МОДУЛЕЙ\n",
        "#====================================================================\n",
        "%%capture\n",
        "!pip install mediapipe"
      ]
    },
    {
      "cell_type": "code",
      "source": [
        "#====================================================================\n",
        "# @title 1.2 ПОДКЛЮЧЕНИЕ БИБЛИОТЕК И МОДУЛЕЙ\n",
        "#====================================================================\n",
        "import os\n",
        "import csv\n",
        "import cv2\n",
        "import time\n",
        "import math\n",
        "import gdown\n",
        "import numpy as np\n",
        "import pandas as pd\n",
        "import matplotlib.pyplot as plt\n",
        "from moviepy.editor import VideoFileClip\n",
        "from google.colab.patches import cv2_imshow"
      ],
      "metadata": {
        "id": "cXtE5oClFAAG"
      },
      "execution_count": null,
      "outputs": []
    },
    {
      "cell_type": "code",
      "source": [
        "# @title Модули библиотеки sklearn\n",
        "from sklearn.pipeline import make_pipeline\n",
        "from sklearn.preprocessing import StandardScaler\n",
        "from sklearn.model_selection import train_test_split\n",
        "\n",
        "from sklearn.linear_model import LogisticRegression, RidgeClassifier\n",
        "from sklearn.ensemble import RandomForestClassifier, GradientBoostingClassifier\n",
        "from sklearn.neighbors import KNeighborsClassifier\n",
        "\n",
        "from sklearn.metrics import accuracy_score # Accuracy metrics\n",
        "import pickle"
      ],
      "metadata": {
        "id": "NgGs7RXEldth"
      },
      "execution_count": null,
      "outputs": []
    },
    {
      "cell_type": "code",
      "source": [
        "# @title Фреймворк для создания скелета\n",
        "import mediapipe as mp # Import mediapipe"
      ],
      "metadata": {
        "id": "Hk3DxB--DhtL"
      },
      "execution_count": null,
      "outputs": []
    },
    {
      "cell_type": "code",
      "source": [
        "# import mediapipe as mp\n",
        "mp_drawing = mp.solutions.drawing_utils # Drawing helpers\n",
        "mp_holistic = mp.solutions.holistic # Mediapipe Solutions\n",
        "mp_pose = mp.solutions.pose"
      ],
      "metadata": {
        "id": "6Es1wonlDtzr"
      },
      "execution_count": null,
      "outputs": []
    },
    {
      "cell_type": "code",
      "source": [
        "# Путь к корневому каталогу проекта\n",
        "PATH = '/content'"
      ],
      "metadata": {
        "id": "AGXQsvbylgbi"
      },
      "execution_count": null,
      "outputs": []
    },
    {
      "cell_type": "code",
      "source": [
        "#====================================================================\n",
        "# @title 1.3 ЗАГРУЗКА ДАННЫХ\n",
        "#====================================================================\n",
        "\n",
        "# Для обучения модели (Файл скачается у вас слева в /content/)\n",
        "url1 = 'https://drive.google.com/uc?export=download&id=1nB74xWtuZ9WjV0MfTtlN7hod4bedJk3L'\n",
        "gdown.download(url1, None)"
      ],
      "metadata": {
        "colab": {
          "base_uri": "https://localhost:8080/",
          "height": 107
        },
        "id": "6SMNWLP6Zya0",
        "outputId": "f49d7e5e-cc7a-4f2c-f35d-62db7266bd33"
      },
      "execution_count": null,
      "outputs": [
        {
          "output_type": "stream",
          "name": "stderr",
          "text": [
            "Downloading...\n",
            "From: https://drive.google.com/uc?export=download&id=1nB74xWtuZ9WjV0MfTtlN7hod4bedJk3L\n",
            "To: /content/All_DataSet_Angles_v1_beta.csv\n",
            "100%|██████████| 16.5M/16.5M [00:00<00:00, 57.5MB/s]\n"
          ]
        },
        {
          "output_type": "execute_result",
          "data": {
            "text/plain": [
              "'All_DataSet_Angles_v1_beta.csv'"
            ],
            "application/vnd.google.colaboratory.intrinsic+json": {
              "type": "string"
            }
          },
          "metadata": {},
          "execution_count": 7
        }
      ]
    },
    {
      "cell_type": "code",
      "source": [
        "#====================================================================\n",
        "# @title 1.4 ПОДГОТОВКА ДАННЫХ\n",
        "#====================================================================\n",
        "\n",
        "# Загрузка CSV-файла в DataFrame и предпросмотр структуры данных\n",
        "df_all = pd.read_csv(f'{PATH}/All_DataSet_Angles_v1_beta.csv')\n",
        "df_all.head(len(df_all))"
      ],
      "metadata": {
        "colab": {
          "base_uri": "https://localhost:8080/",
          "height": 487
        },
        "id": "5dRzsBjGa2d8",
        "outputId": "0a8955d6-1c9b-4ea3-ef3e-28976e66a1c4"
      },
      "execution_count": null,
      "outputs": [
        {
          "output_type": "execute_result",
          "data": {
            "text/plain": [
              "       class view belt  karateka  num  frame  ang_0_(28)  ang_1_(27)  \\\n",
              "0         10    f   bb         1    1      0   68.027671   93.411735   \n",
              "1         10    f   bb         1    1      1   63.250852   99.588118   \n",
              "2         10    f   bb         1    1      2   64.616625  100.119555   \n",
              "3         10    f   bb         1    1      3   65.172063  101.226334   \n",
              "4         10    f   bb         1    1      4   65.635908  100.639907   \n",
              "...      ...  ...  ...       ...  ...    ...         ...         ...   \n",
              "60651      9    p   wb         1   10     39   79.444465   76.721456   \n",
              "60652      9    p   wb         1   10     40   81.660543   76.134504   \n",
              "60653      9    p   wb         1   10     41   80.154800   80.046721   \n",
              "60654      9    p   wb         1   10     42   84.175274   79.059612   \n",
              "60655      9    p   wb         1   10     43   81.392282   80.586740   \n",
              "\n",
              "       ang_2_(26)  ang_3_(25)  ang_4_(24)  ang_5_(23)  ang_6_(24)  ang_7_(23)  \\\n",
              "0      153.343915  152.964913  121.917229  106.722422  149.741628  154.902789   \n",
              "1      155.002795  146.597514  123.080573  113.343506  136.771270  156.516613   \n",
              "2      153.702429  147.759633  121.643125  111.293121  140.296791  157.491690   \n",
              "3      144.449909  146.904127  113.080469  113.601674  150.784772  156.911747   \n",
              "4      135.489108  146.747837  105.129584  112.345056  159.315761  157.308864   \n",
              "...           ...         ...         ...         ...         ...         ...   \n",
              "60651  120.800139   86.201738  115.676522   64.185314  130.464745  132.289451   \n",
              "60652  123.303406   85.918423  115.836414   62.953187  129.210144  129.177035   \n",
              "60653  119.289598   90.531210  117.752381   67.578400  125.357970  128.688307   \n",
              "60654  124.111483   87.811061  119.128272   63.762821  124.119738  127.146860   \n",
              "60655  119.561239   86.058703  118.506148   63.077060  127.634323  127.404137   \n",
              "\n",
              "       ang_8_(12)  ang_9_(11)  ang_10_(14)  ang_11_(13)  ang_12_(12)  \\\n",
              "0       23.456765   38.694997   113.453694   111.557852    27.921734   \n",
              "1       17.125390   34.871598   117.738190   112.961964    24.948903   \n",
              "2       17.520577   36.608854   115.429577   112.246262    24.189559   \n",
              "3       22.288098   40.132454   122.336058   121.672376    25.272209   \n",
              "4       23.057417   42.282019   120.487785   123.799862    25.542587   \n",
              "...           ...         ...          ...          ...          ...   \n",
              "60651   53.822062   46.250372    61.954948   122.196390    71.829153   \n",
              "60652   59.455149   48.577335    62.248995   121.323524    78.813365   \n",
              "60653   56.153704   44.945343    58.109062   109.347921    76.290575   \n",
              "60654   54.335120   38.683973    54.860830    98.746206    70.497853   \n",
              "60655   46.028612   40.684965    58.235437   106.013595    76.545271   \n",
              "\n",
              "       ang_13_(11)  \n",
              "0       126.754987  \n",
              "1       127.745394  \n",
              "2       129.027131  \n",
              "3       129.701381  \n",
              "4       129.757664  \n",
              "...            ...  \n",
              "60651    23.790627  \n",
              "60652    23.421537  \n",
              "60653    23.676837  \n",
              "60654    24.719237  \n",
              "60655    25.764394  \n",
              "\n",
              "[60656 rows x 20 columns]"
            ],
            "text/html": [
              "\n",
              "\n",
              "  <div id=\"df-8befc054-87cc-4fff-9ab9-76a7ec1cecc3\">\n",
              "    <div class=\"colab-df-container\">\n",
              "      <div>\n",
              "<style scoped>\n",
              "    .dataframe tbody tr th:only-of-type {\n",
              "        vertical-align: middle;\n",
              "    }\n",
              "\n",
              "    .dataframe tbody tr th {\n",
              "        vertical-align: top;\n",
              "    }\n",
              "\n",
              "    .dataframe thead th {\n",
              "        text-align: right;\n",
              "    }\n",
              "</style>\n",
              "<table border=\"1\" class=\"dataframe\">\n",
              "  <thead>\n",
              "    <tr style=\"text-align: right;\">\n",
              "      <th></th>\n",
              "      <th>class</th>\n",
              "      <th>view</th>\n",
              "      <th>belt</th>\n",
              "      <th>karateka</th>\n",
              "      <th>num</th>\n",
              "      <th>frame</th>\n",
              "      <th>ang_0_(28)</th>\n",
              "      <th>ang_1_(27)</th>\n",
              "      <th>ang_2_(26)</th>\n",
              "      <th>ang_3_(25)</th>\n",
              "      <th>ang_4_(24)</th>\n",
              "      <th>ang_5_(23)</th>\n",
              "      <th>ang_6_(24)</th>\n",
              "      <th>ang_7_(23)</th>\n",
              "      <th>ang_8_(12)</th>\n",
              "      <th>ang_9_(11)</th>\n",
              "      <th>ang_10_(14)</th>\n",
              "      <th>ang_11_(13)</th>\n",
              "      <th>ang_12_(12)</th>\n",
              "      <th>ang_13_(11)</th>\n",
              "    </tr>\n",
              "  </thead>\n",
              "  <tbody>\n",
              "    <tr>\n",
              "      <th>0</th>\n",
              "      <td>10</td>\n",
              "      <td>f</td>\n",
              "      <td>bb</td>\n",
              "      <td>1</td>\n",
              "      <td>1</td>\n",
              "      <td>0</td>\n",
              "      <td>68.027671</td>\n",
              "      <td>93.411735</td>\n",
              "      <td>153.343915</td>\n",
              "      <td>152.964913</td>\n",
              "      <td>121.917229</td>\n",
              "      <td>106.722422</td>\n",
              "      <td>149.741628</td>\n",
              "      <td>154.902789</td>\n",
              "      <td>23.456765</td>\n",
              "      <td>38.694997</td>\n",
              "      <td>113.453694</td>\n",
              "      <td>111.557852</td>\n",
              "      <td>27.921734</td>\n",
              "      <td>126.754987</td>\n",
              "    </tr>\n",
              "    <tr>\n",
              "      <th>1</th>\n",
              "      <td>10</td>\n",
              "      <td>f</td>\n",
              "      <td>bb</td>\n",
              "      <td>1</td>\n",
              "      <td>1</td>\n",
              "      <td>1</td>\n",
              "      <td>63.250852</td>\n",
              "      <td>99.588118</td>\n",
              "      <td>155.002795</td>\n",
              "      <td>146.597514</td>\n",
              "      <td>123.080573</td>\n",
              "      <td>113.343506</td>\n",
              "      <td>136.771270</td>\n",
              "      <td>156.516613</td>\n",
              "      <td>17.125390</td>\n",
              "      <td>34.871598</td>\n",
              "      <td>117.738190</td>\n",
              "      <td>112.961964</td>\n",
              "      <td>24.948903</td>\n",
              "      <td>127.745394</td>\n",
              "    </tr>\n",
              "    <tr>\n",
              "      <th>2</th>\n",
              "      <td>10</td>\n",
              "      <td>f</td>\n",
              "      <td>bb</td>\n",
              "      <td>1</td>\n",
              "      <td>1</td>\n",
              "      <td>2</td>\n",
              "      <td>64.616625</td>\n",
              "      <td>100.119555</td>\n",
              "      <td>153.702429</td>\n",
              "      <td>147.759633</td>\n",
              "      <td>121.643125</td>\n",
              "      <td>111.293121</td>\n",
              "      <td>140.296791</td>\n",
              "      <td>157.491690</td>\n",
              "      <td>17.520577</td>\n",
              "      <td>36.608854</td>\n",
              "      <td>115.429577</td>\n",
              "      <td>112.246262</td>\n",
              "      <td>24.189559</td>\n",
              "      <td>129.027131</td>\n",
              "    </tr>\n",
              "    <tr>\n",
              "      <th>3</th>\n",
              "      <td>10</td>\n",
              "      <td>f</td>\n",
              "      <td>bb</td>\n",
              "      <td>1</td>\n",
              "      <td>1</td>\n",
              "      <td>3</td>\n",
              "      <td>65.172063</td>\n",
              "      <td>101.226334</td>\n",
              "      <td>144.449909</td>\n",
              "      <td>146.904127</td>\n",
              "      <td>113.080469</td>\n",
              "      <td>113.601674</td>\n",
              "      <td>150.784772</td>\n",
              "      <td>156.911747</td>\n",
              "      <td>22.288098</td>\n",
              "      <td>40.132454</td>\n",
              "      <td>122.336058</td>\n",
              "      <td>121.672376</td>\n",
              "      <td>25.272209</td>\n",
              "      <td>129.701381</td>\n",
              "    </tr>\n",
              "    <tr>\n",
              "      <th>4</th>\n",
              "      <td>10</td>\n",
              "      <td>f</td>\n",
              "      <td>bb</td>\n",
              "      <td>1</td>\n",
              "      <td>1</td>\n",
              "      <td>4</td>\n",
              "      <td>65.635908</td>\n",
              "      <td>100.639907</td>\n",
              "      <td>135.489108</td>\n",
              "      <td>146.747837</td>\n",
              "      <td>105.129584</td>\n",
              "      <td>112.345056</td>\n",
              "      <td>159.315761</td>\n",
              "      <td>157.308864</td>\n",
              "      <td>23.057417</td>\n",
              "      <td>42.282019</td>\n",
              "      <td>120.487785</td>\n",
              "      <td>123.799862</td>\n",
              "      <td>25.542587</td>\n",
              "      <td>129.757664</td>\n",
              "    </tr>\n",
              "    <tr>\n",
              "      <th>...</th>\n",
              "      <td>...</td>\n",
              "      <td>...</td>\n",
              "      <td>...</td>\n",
              "      <td>...</td>\n",
              "      <td>...</td>\n",
              "      <td>...</td>\n",
              "      <td>...</td>\n",
              "      <td>...</td>\n",
              "      <td>...</td>\n",
              "      <td>...</td>\n",
              "      <td>...</td>\n",
              "      <td>...</td>\n",
              "      <td>...</td>\n",
              "      <td>...</td>\n",
              "      <td>...</td>\n",
              "      <td>...</td>\n",
              "      <td>...</td>\n",
              "      <td>...</td>\n",
              "      <td>...</td>\n",
              "      <td>...</td>\n",
              "    </tr>\n",
              "    <tr>\n",
              "      <th>60651</th>\n",
              "      <td>9</td>\n",
              "      <td>p</td>\n",
              "      <td>wb</td>\n",
              "      <td>1</td>\n",
              "      <td>10</td>\n",
              "      <td>39</td>\n",
              "      <td>79.444465</td>\n",
              "      <td>76.721456</td>\n",
              "      <td>120.800139</td>\n",
              "      <td>86.201738</td>\n",
              "      <td>115.676522</td>\n",
              "      <td>64.185314</td>\n",
              "      <td>130.464745</td>\n",
              "      <td>132.289451</td>\n",
              "      <td>53.822062</td>\n",
              "      <td>46.250372</td>\n",
              "      <td>61.954948</td>\n",
              "      <td>122.196390</td>\n",
              "      <td>71.829153</td>\n",
              "      <td>23.790627</td>\n",
              "    </tr>\n",
              "    <tr>\n",
              "      <th>60652</th>\n",
              "      <td>9</td>\n",
              "      <td>p</td>\n",
              "      <td>wb</td>\n",
              "      <td>1</td>\n",
              "      <td>10</td>\n",
              "      <td>40</td>\n",
              "      <td>81.660543</td>\n",
              "      <td>76.134504</td>\n",
              "      <td>123.303406</td>\n",
              "      <td>85.918423</td>\n",
              "      <td>115.836414</td>\n",
              "      <td>62.953187</td>\n",
              "      <td>129.210144</td>\n",
              "      <td>129.177035</td>\n",
              "      <td>59.455149</td>\n",
              "      <td>48.577335</td>\n",
              "      <td>62.248995</td>\n",
              "      <td>121.323524</td>\n",
              "      <td>78.813365</td>\n",
              "      <td>23.421537</td>\n",
              "    </tr>\n",
              "    <tr>\n",
              "      <th>60653</th>\n",
              "      <td>9</td>\n",
              "      <td>p</td>\n",
              "      <td>wb</td>\n",
              "      <td>1</td>\n",
              "      <td>10</td>\n",
              "      <td>41</td>\n",
              "      <td>80.154800</td>\n",
              "      <td>80.046721</td>\n",
              "      <td>119.289598</td>\n",
              "      <td>90.531210</td>\n",
              "      <td>117.752381</td>\n",
              "      <td>67.578400</td>\n",
              "      <td>125.357970</td>\n",
              "      <td>128.688307</td>\n",
              "      <td>56.153704</td>\n",
              "      <td>44.945343</td>\n",
              "      <td>58.109062</td>\n",
              "      <td>109.347921</td>\n",
              "      <td>76.290575</td>\n",
              "      <td>23.676837</td>\n",
              "    </tr>\n",
              "    <tr>\n",
              "      <th>60654</th>\n",
              "      <td>9</td>\n",
              "      <td>p</td>\n",
              "      <td>wb</td>\n",
              "      <td>1</td>\n",
              "      <td>10</td>\n",
              "      <td>42</td>\n",
              "      <td>84.175274</td>\n",
              "      <td>79.059612</td>\n",
              "      <td>124.111483</td>\n",
              "      <td>87.811061</td>\n",
              "      <td>119.128272</td>\n",
              "      <td>63.762821</td>\n",
              "      <td>124.119738</td>\n",
              "      <td>127.146860</td>\n",
              "      <td>54.335120</td>\n",
              "      <td>38.683973</td>\n",
              "      <td>54.860830</td>\n",
              "      <td>98.746206</td>\n",
              "      <td>70.497853</td>\n",
              "      <td>24.719237</td>\n",
              "    </tr>\n",
              "    <tr>\n",
              "      <th>60655</th>\n",
              "      <td>9</td>\n",
              "      <td>p</td>\n",
              "      <td>wb</td>\n",
              "      <td>1</td>\n",
              "      <td>10</td>\n",
              "      <td>43</td>\n",
              "      <td>81.392282</td>\n",
              "      <td>80.586740</td>\n",
              "      <td>119.561239</td>\n",
              "      <td>86.058703</td>\n",
              "      <td>118.506148</td>\n",
              "      <td>63.077060</td>\n",
              "      <td>127.634323</td>\n",
              "      <td>127.404137</td>\n",
              "      <td>46.028612</td>\n",
              "      <td>40.684965</td>\n",
              "      <td>58.235437</td>\n",
              "      <td>106.013595</td>\n",
              "      <td>76.545271</td>\n",
              "      <td>25.764394</td>\n",
              "    </tr>\n",
              "  </tbody>\n",
              "</table>\n",
              "<p>60656 rows × 20 columns</p>\n",
              "</div>\n",
              "      <button class=\"colab-df-convert\" onclick=\"convertToInteractive('df-8befc054-87cc-4fff-9ab9-76a7ec1cecc3')\"\n",
              "              title=\"Convert this dataframe to an interactive table.\"\n",
              "              style=\"display:none;\">\n",
              "\n",
              "  <svg xmlns=\"http://www.w3.org/2000/svg\" height=\"24px\"viewBox=\"0 0 24 24\"\n",
              "       width=\"24px\">\n",
              "    <path d=\"M0 0h24v24H0V0z\" fill=\"none\"/>\n",
              "    <path d=\"M18.56 5.44l.94 2.06.94-2.06 2.06-.94-2.06-.94-.94-2.06-.94 2.06-2.06.94zm-11 1L8.5 8.5l.94-2.06 2.06-.94-2.06-.94L8.5 2.5l-.94 2.06-2.06.94zm10 10l.94 2.06.94-2.06 2.06-.94-2.06-.94-.94-2.06-.94 2.06-2.06.94z\"/><path d=\"M17.41 7.96l-1.37-1.37c-.4-.4-.92-.59-1.43-.59-.52 0-1.04.2-1.43.59L10.3 9.45l-7.72 7.72c-.78.78-.78 2.05 0 2.83L4 21.41c.39.39.9.59 1.41.59.51 0 1.02-.2 1.41-.59l7.78-7.78 2.81-2.81c.8-.78.8-2.07 0-2.86zM5.41 20L4 18.59l7.72-7.72 1.47 1.35L5.41 20z\"/>\n",
              "  </svg>\n",
              "      </button>\n",
              "\n",
              "\n",
              "\n",
              "    <div id=\"df-f1c9b032-226f-46f6-ab76-9a3e2dfedd36\">\n",
              "      <button class=\"colab-df-quickchart\" onclick=\"quickchart('df-f1c9b032-226f-46f6-ab76-9a3e2dfedd36')\"\n",
              "              title=\"Suggest charts.\"\n",
              "              style=\"display:none;\">\n",
              "\n",
              "<svg xmlns=\"http://www.w3.org/2000/svg\" height=\"24px\"viewBox=\"0 0 24 24\"\n",
              "     width=\"24px\">\n",
              "    <g>\n",
              "        <path d=\"M19 3H5c-1.1 0-2 .9-2 2v14c0 1.1.9 2 2 2h14c1.1 0 2-.9 2-2V5c0-1.1-.9-2-2-2zM9 17H7v-7h2v7zm4 0h-2V7h2v10zm4 0h-2v-4h2v4z\"/>\n",
              "    </g>\n",
              "</svg>\n",
              "      </button>\n",
              "    </div>\n",
              "\n",
              "<style>\n",
              "  .colab-df-quickchart {\n",
              "    background-color: #E8F0FE;\n",
              "    border: none;\n",
              "    border-radius: 50%;\n",
              "    cursor: pointer;\n",
              "    display: none;\n",
              "    fill: #1967D2;\n",
              "    height: 32px;\n",
              "    padding: 0 0 0 0;\n",
              "    width: 32px;\n",
              "  }\n",
              "\n",
              "  .colab-df-quickchart:hover {\n",
              "    background-color: #E2EBFA;\n",
              "    box-shadow: 0px 1px 2px rgba(60, 64, 67, 0.3), 0px 1px 3px 1px rgba(60, 64, 67, 0.15);\n",
              "    fill: #174EA6;\n",
              "  }\n",
              "\n",
              "  [theme=dark] .colab-df-quickchart {\n",
              "    background-color: #3B4455;\n",
              "    fill: #D2E3FC;\n",
              "  }\n",
              "\n",
              "  [theme=dark] .colab-df-quickchart:hover {\n",
              "    background-color: #434B5C;\n",
              "    box-shadow: 0px 1px 3px 1px rgba(0, 0, 0, 0.15);\n",
              "    filter: drop-shadow(0px 1px 2px rgba(0, 0, 0, 0.3));\n",
              "    fill: #FFFFFF;\n",
              "  }\n",
              "</style>\n",
              "\n",
              "    <script>\n",
              "      async function quickchart(key) {\n",
              "        const containerElement = document.querySelector('#' + key);\n",
              "        const charts = await google.colab.kernel.invokeFunction(\n",
              "            'suggestCharts', [key], {});\n",
              "      }\n",
              "    </script>\n",
              "\n",
              "      <script>\n",
              "\n",
              "function displayQuickchartButton(domScope) {\n",
              "  let quickchartButtonEl =\n",
              "    domScope.querySelector('#df-f1c9b032-226f-46f6-ab76-9a3e2dfedd36 button.colab-df-quickchart');\n",
              "  quickchartButtonEl.style.display =\n",
              "    google.colab.kernel.accessAllowed ? 'block' : 'none';\n",
              "}\n",
              "\n",
              "        displayQuickchartButton(document);\n",
              "      </script>\n",
              "      <style>\n",
              "    .colab-df-container {\n",
              "      display:flex;\n",
              "      flex-wrap:wrap;\n",
              "      gap: 12px;\n",
              "    }\n",
              "\n",
              "    .colab-df-convert {\n",
              "      background-color: #E8F0FE;\n",
              "      border: none;\n",
              "      border-radius: 50%;\n",
              "      cursor: pointer;\n",
              "      display: none;\n",
              "      fill: #1967D2;\n",
              "      height: 32px;\n",
              "      padding: 0 0 0 0;\n",
              "      width: 32px;\n",
              "    }\n",
              "\n",
              "    .colab-df-convert:hover {\n",
              "      background-color: #E2EBFA;\n",
              "      box-shadow: 0px 1px 2px rgba(60, 64, 67, 0.3), 0px 1px 3px 1px rgba(60, 64, 67, 0.15);\n",
              "      fill: #174EA6;\n",
              "    }\n",
              "\n",
              "    [theme=dark] .colab-df-convert {\n",
              "      background-color: #3B4455;\n",
              "      fill: #D2E3FC;\n",
              "    }\n",
              "\n",
              "    [theme=dark] .colab-df-convert:hover {\n",
              "      background-color: #434B5C;\n",
              "      box-shadow: 0px 1px 3px 1px rgba(0, 0, 0, 0.15);\n",
              "      filter: drop-shadow(0px 1px 2px rgba(0, 0, 0, 0.3));\n",
              "      fill: #FFFFFF;\n",
              "    }\n",
              "  </style>\n",
              "\n",
              "      <script>\n",
              "        const buttonEl =\n",
              "          document.querySelector('#df-8befc054-87cc-4fff-9ab9-76a7ec1cecc3 button.colab-df-convert');\n",
              "        buttonEl.style.display =\n",
              "          google.colab.kernel.accessAllowed ? 'block' : 'none';\n",
              "\n",
              "        async function convertToInteractive(key) {\n",
              "          const element = document.querySelector('#df-8befc054-87cc-4fff-9ab9-76a7ec1cecc3');\n",
              "          const dataTable =\n",
              "            await google.colab.kernel.invokeFunction('convertToInteractive',\n",
              "                                                     [key], {});\n",
              "          if (!dataTable) return;\n",
              "\n",
              "          const docLinkHtml = 'Like what you see? Visit the ' +\n",
              "            '<a target=\"_blank\" href=https://colab.research.google.com/notebooks/data_table.ipynb>data table notebook</a>'\n",
              "            + ' to learn more about interactive tables.';\n",
              "          element.innerHTML = '';\n",
              "          dataTable['output_type'] = 'display_data';\n",
              "          await google.colab.output.renderOutput(dataTable, element);\n",
              "          const docLink = document.createElement('div');\n",
              "          docLink.innerHTML = docLinkHtml;\n",
              "          element.appendChild(docLink);\n",
              "        }\n",
              "      </script>\n",
              "    </div>\n",
              "  </div>\n"
            ]
          },
          "metadata": {},
          "execution_count": 8
        }
      ]
    },
    {
      "cell_type": "code",
      "source": [
        "# Создадим копию DataFrame, чтобы не вносить изменения в оригинальный DataFrame.\n",
        "df_copy = df_all.copy()"
      ],
      "metadata": {
        "id": "VGizqvONaj0M"
      },
      "execution_count": null,
      "outputs": []
    },
    {
      "cell_type": "code",
      "execution_count": null,
      "metadata": {
        "id": "lUW6RrtcZQNw"
      },
      "outputs": [],
      "source": [
        "# Список колонок с данными для обучения\n",
        "columns = ['ang_0_(28)', 'ang_1_(27)', 'ang_2_(26)', 'ang_3_(25)', 'ang_4_(24)', 'ang_5_(23)', 'ang_6_(24)', 'ang_7_(23)', 'ang_8_(12)', 'ang_9_(11)', 'ang_10_(14)', 'ang_11_(13)', 'ang_12_(12)', 'ang_13_(11)']"
      ]
    },
    {
      "cell_type": "code",
      "source": [
        "# Разделяем Датасет на данные и label.\n",
        "x_data = df_copy[columns] # features\n",
        "y_data = df_copy['class'] # target value"
      ],
      "metadata": {
        "id": "25OJfHP0ie_x"
      },
      "execution_count": null,
      "outputs": []
    },
    {
      "cell_type": "code",
      "source": [
        "# Разделение Датасета на выборки\n",
        "x_train, x_test, y_train, y_test = train_test_split(x_data,                  # датасет с высотами и временем\n",
        "                                                    y_data,                  # датасет с метками\n",
        "                                                    test_size = 0.2,         # процент тестовых значений\n",
        "                                                    # shuffle=True,            # перемешивание\n",
        "                                                    random_state=42)         # параметр воспроизводимости. данные будут перемешаны в том же порядке. Чаще всего используют 0 или 42."
      ],
      "metadata": {
        "id": "f02Ejfb-jSjg"
      },
      "execution_count": null,
      "outputs": []
    },
    {
      "cell_type": "code",
      "source": [
        "#====================================================================\n",
        "# @title 2.1 СОЗДАНИЕ МОДЕЛИ\n",
        "#====================================================================\n",
        "\n",
        "# Словарь-набор действий для создания 4 вариантов моделей для сравнения по точности\n",
        "# Каждая строка словаря стандартизация данных и передача в модель\n",
        "pipelines = {\n",
        "    'lr':make_pipeline(StandardScaler(), LogisticRegression()), # Логистическая регрессия\n",
        "    'rc':make_pipeline(StandardScaler(), RidgeClassifier()), # Классификатор Ridge\n",
        "    'rf':make_pipeline(StandardScaler(), RandomForestClassifier()), # Классификатор случайный лес\n",
        "    'gb':make_pipeline(StandardScaler(), GradientBoostingClassifier()), # Градиентный Бустинг Классификаторов\n",
        "    'kn': make_pipeline(StandardScaler(), KNeighborsClassifier(3)) # Метод k ближайших соседей\n",
        "}"
      ],
      "metadata": {
        "id": "2VQhw0dQH0Nl"
      },
      "execution_count": null,
      "outputs": []
    },
    {
      "cell_type": "code",
      "source": [
        "#====================================================================\n",
        "# @title 2.2 ОБУЧЕНИЕ МОДЕЛИ\n",
        "#====================================================================\n",
        "\n",
        "# Создание словаря с уже обученными 4 моделями\n",
        "fit_models = {}\n",
        "for algo, pipeline in pipelines.items():\n",
        "    model = pipeline.fit(x_train, y_train)\n",
        "    fit_models[algo] = model"
      ],
      "metadata": {
        "id": "jxDle8xBrVrr"
      },
      "execution_count": null,
      "outputs": []
    },
    {
      "cell_type": "code",
      "source": [
        "#====================================================================\n",
        "# @title 2.3 РЕЗУЛЬТАТ И СТАТИСТИКА ОБУЧЕНИЯ МОДЕЛИ\n",
        "#====================================================================\n",
        "\n",
        "# Получение оценки точности моделей\n",
        "for algo, model in fit_models.items():\n",
        "    yhat = model.predict(x_test)\n",
        "    print(algo, accuracy_score(y_test, yhat))"
      ],
      "metadata": {
        "colab": {
          "base_uri": "https://localhost:8080/"
        },
        "id": "Q-Ev2gcltCmc",
        "outputId": "69dc9e3b-dc7b-4c9a-b1b0-bd07b70d7c95"
      },
      "execution_count": null,
      "outputs": [
        {
          "output_type": "stream",
          "name": "stdout",
          "text": [
            "lr 0.3363831190240686\n",
            "rc 0.30374216946917243\n",
            "rf 0.7776953511374877\n",
            "gb 0.5526706231454006\n",
            "kn 0.7469502143092648\n"
          ]
        }
      ]
    },
    {
      "cell_type": "code",
      "source": [
        "#====================================================================\n",
        "# @title 2.2 ФУНКЦИЯ ПРЕДОБРАБОТКИ ВИДЕО ДЛЯ АНАЛИЗА НС.\n",
        "#===================================================================="
      ],
      "metadata": {
        "id": "wZVMi4nQvcCd"
      },
      "execution_count": null,
      "outputs": []
    },
    {
      "cell_type": "code",
      "source": [
        "# @title Загрузка предварительных тестов\n",
        "\n",
        "# параметры, /view?usp=sharing только при переходе по ссылке (но само видео должно быть расшарено!!!)!\n",
        "# Файл скачается у вас слева в /content/\n",
        "url1 = 'https://drive.google.com/uc?export=download&id=1MnL-zVxXMOP5blB7mj9Rg_WyiahKx2Uf'\n",
        "gdown.download(url1, None)\n",
        "\n",
        "url2 = 'https://drive.google.com/uc?export=download&id=1FUM88rH5fNyis4s_C1rdpeJCoM2JQa3o'\n",
        "gdown.download(url2, None)\n",
        "\n",
        "url3 = 'https://drive.google.com/uc?export=download&id=1lyNnmcjCYaJbKbvZ6ur--jvDTm2TAG9V'\n",
        "\n",
        "gdown.download(url3, None)"
      ],
      "metadata": {
        "colab": {
          "base_uri": "https://localhost:8080/"
        },
        "id": "hKiZfecs_KgD",
        "outputId": "cb248dfb-616a-4ef2-9dd0-35a14386c81e"
      },
      "execution_count": null,
      "outputs": [
        {
          "output_type": "stream",
          "name": "stderr",
          "text": [
            "Downloading...\n",
            "From: https://drive.google.com/uc?export=download&id=1MnL-zVxXMOP5blB7mj9Rg_WyiahKx2Uf\n",
            "To: /content/02_f_bb_01_03.mp4\n",
            "100%|██████████| 5.06M/5.06M [00:00<00:00, 81.1MB/s]\n",
            "Downloading...\n",
            "From: https://drive.google.com/uc?export=download&id=1FUM88rH5fNyis4s_C1rdpeJCoM2JQa3o\n",
            "To: /content/05_f_gb_02_02.mp4\n",
            "100%|██████████| 5.52M/5.52M [00:00<00:00, 86.9MB/s]\n",
            "Downloading...\n",
            "From: https://drive.google.com/uc?export=download&id=1lyNnmcjCYaJbKbvZ6ur--jvDTm2TAG9V\n",
            "To: /content/05_p_gb_02_02.mp4\n",
            "100%|██████████| 6.07M/6.07M [00:00<00:00, 67.8MB/s]\n"
          ]
        },
        {
          "output_type": "execute_result",
          "data": {
            "text/plain": [
              "'05_p_gb_02_02.mp4'"
            ],
            "application/vnd.google.colaboratory.intrinsic+json": {
              "type": "string"
            }
          },
          "metadata": {},
          "execution_count": 19
        }
      ]
    },
    {
      "cell_type": "code",
      "source": [
        "# @title Загрузка (видео TG) тестов\n",
        "\n",
        "# параметры, /view?usp=sharing только при переходе по ссылке (но само видео должно быть расшарено!!!)!\n",
        "# Файл скачается у вас слева в /content/\n",
        "url_TG0 = 'https://drive.google.com/uc?export=download&id=1IQ4hqKicxYtP6afcgIvqoA6S5Gn3EhaC'\n",
        "gdown.download(url_TG0, 'test0_video.mp4')\n",
        "url_TG1 = 'https://drive.google.com/uc?export=download&id=1N3tQJ9qwLVWqTJ94Ca2P8CdQ0_f5vX6M'\n",
        "gdown.download(url_TG1, 'test1_video.mp4')\n",
        "url_TG2 = 'https://drive.google.com/uc?export=download&id=1Ypcr-26ECjdQk92q9sX42Tln5K11qD2-'\n",
        "gdown.download(url_TG2, 'test2_video.mp4')\n",
        "url_TG3 = 'https://drive.google.com/uc?export=download&id=1d9bvaTt3I0RPfopZ0EHAy76Hy5HXqNme'\n",
        "gdown.download(url_TG3, 'test3_video.mp4')\n",
        "url_TG4 = 'https://drive.google.com/uc?export=download&id=1mdK8yT6IKSRSwbIKQjmhNGPKnnEQ6Wlr'\n",
        "gdown.download(url_TG4, 'test4_video.mp4')\n",
        "url_TG5 = 'https://drive.google.com/uc?export=download&id=1nUk1XkPnCdXRQ2l2wqe9biunOfzDIa7m'\n",
        "gdown.download(url_TG5, 'test5_video.mp4')\n",
        "url_TG6 = 'https://drive.google.com/uc?export=download&id=1bjgnP3XB88--rGr_AR5eLoNH13PEPLAv'\n",
        "gdown.download(url_TG6, 'test6_video.mp4')\n",
        "url_TG7 = 'https://drive.google.com/uc?export=download&id=1YhfESJrIemlGa62wD-9lw7J1qpECx25w'\n",
        "gdown.download(url_TG7, 'test7_video.mp4')\n",
        "url_TG8 = 'https://drive.google.com/uc?export=download&id=1dE9MmlbrvM20A6UqEa6w2kKH_JFN4Mue'\n",
        "gdown.download(url_TG8, 'test8_video.mp4')\n",
        "url_TG9 = 'https://drive.google.com/uc?export=download&id=10_RkL8TQM6WimvdVj62HxD4Aig8qXPpf'\n",
        "gdown.download(url_TG9, 'test9_video.mp4')"
      ],
      "metadata": {
        "colab": {
          "base_uri": "https://localhost:8080/"
        },
        "id": "SoYrHThaycz7",
        "outputId": "507d88d0-e1c8-4492-9ec7-d0d50be278b6"
      },
      "execution_count": null,
      "outputs": [
        {
          "output_type": "stream",
          "name": "stderr",
          "text": [
            "Downloading...\n",
            "From: https://drive.google.com/uc?export=download&id=1IQ4hqKicxYtP6afcgIvqoA6S5Gn3EhaC\n",
            "To: /content/test0_video.mp4\n",
            "100%|██████████| 4.20M/4.20M [00:00<00:00, 71.8MB/s]\n",
            "Downloading...\n",
            "From: https://drive.google.com/uc?export=download&id=1N3tQJ9qwLVWqTJ94Ca2P8CdQ0_f5vX6M\n",
            "To: /content/test1_video.mp4\n",
            "100%|██████████| 5.16M/5.16M [00:00<00:00, 83.1MB/s]\n",
            "Downloading...\n",
            "From: https://drive.google.com/uc?export=download&id=1Ypcr-26ECjdQk92q9sX42Tln5K11qD2-\n",
            "To: /content/test2_video.mp4\n",
            "100%|██████████| 3.14M/3.14M [00:00<00:00, 54.5MB/s]\n",
            "Downloading...\n",
            "From: https://drive.google.com/uc?export=download&id=1d9bvaTt3I0RPfopZ0EHAy76Hy5HXqNme\n",
            "To: /content/test3_video.mp4\n",
            "100%|██████████| 5.46M/5.46M [00:00<00:00, 78.9MB/s]\n",
            "Downloading...\n",
            "From: https://drive.google.com/uc?export=download&id=1mdK8yT6IKSRSwbIKQjmhNGPKnnEQ6Wlr\n",
            "To: /content/test4_video.mp4\n",
            "100%|██████████| 8.55M/8.55M [00:00<00:00, 41.2MB/s]\n",
            "Downloading...\n",
            "From: https://drive.google.com/uc?export=download&id=1nUk1XkPnCdXRQ2l2wqe9biunOfzDIa7m\n",
            "To: /content/test5_video.mp4\n",
            "100%|██████████| 6.58M/6.58M [00:00<00:00, 34.3MB/s]\n",
            "Downloading...\n",
            "From: https://drive.google.com/uc?export=download&id=1bjgnP3XB88--rGr_AR5eLoNH13PEPLAv\n",
            "To: /content/test6_video.mp4\n",
            "100%|██████████| 6.31M/6.31M [00:00<00:00, 73.3MB/s]\n",
            "Downloading...\n",
            "From: https://drive.google.com/uc?export=download&id=1YhfESJrIemlGa62wD-9lw7J1qpECx25w\n",
            "To: /content/test7_video.mp4\n",
            "100%|██████████| 4.72M/4.72M [00:00<00:00, 49.5MB/s]\n",
            "Downloading...\n",
            "From: https://drive.google.com/uc?export=download&id=1dE9MmlbrvM20A6UqEa6w2kKH_JFN4Mue\n",
            "To: /content/test8_video.mp4\n",
            "100%|██████████| 4.29M/4.29M [00:00<00:00, 23.5MB/s]\n",
            "Downloading...\n",
            "From: https://drive.google.com/uc?export=download&id=10_RkL8TQM6WimvdVj62HxD4Aig8qXPpf\n",
            "To: /content/test9_video.mp4\n",
            "100%|██████████| 8.19M/8.19M [00:00<00:00, 26.8MB/s]\n"
          ]
        },
        {
          "output_type": "execute_result",
          "data": {
            "text/plain": [
              "'test9_video.mp4'"
            ],
            "application/vnd.google.colaboratory.intrinsic+json": {
              "type": "string"
            }
          },
          "metadata": {},
          "execution_count": 20
        }
      ]
    },
    {
      "cell_type": "code",
      "execution_count": null,
      "metadata": {
        "id": "iia0JmddgqGG"
      },
      "outputs": [],
      "source": [
        "#--------------------------------------------------------------------------\n",
        "# @title Список точек для углов(угол относительно центральной)\n",
        "#--------------------------------------------------------------------------\n",
        "\n",
        "angles_Igor_Rybin = [[32, 28, 26], # Стопы\n",
        "                     [31, 27, 25],\n",
        "                     [28, 26, 24], # Колени\n",
        "                     [27, 25, 23],\n",
        "                     [26, 24, 23], # Пах\n",
        "                     [25, 23, 24],\n",
        "                     [26, 24, 12], # Изгиб тела\n",
        "                     [25, 23, 11],\n",
        "                     [24, 12, 14], # Плечи\n",
        "                     [23, 11, 13],\n",
        "                     [12, 14, 16], # Логти\n",
        "                     [11, 13, 15],\n",
        "                     [11, 12, 5], # Глаза\n",
        "                     [12, 11, 2]\n",
        "                    ]\n"
      ]
    },
    {
      "cell_type": "code",
      "execution_count": null,
      "metadata": {
        "colab": {
          "base_uri": "https://localhost:8080/"
        },
        "id": "ngE6aQtRG2ga",
        "outputId": "fc7a33b3-1641-4265-b39f-86dc59802dcd",
        "cellView": "form"
      },
      "outputs": [
        {
          "output_type": "stream",
          "name": "stdout",
          "text": [
            "(90.00000000000001, 44.999999999999986, 44.999999999999986, (1.0, 1.4142135623730951, 1.0))\n"
          ]
        }
      ],
      "source": [
        "# @title Функция для вычисления углов\n",
        "\n",
        "def calculate_triangle_angles(point1, point2, point3):\n",
        "    # Вычисление длин сторон треугольника\n",
        "    side_a = math.dist(point1, point2)\n",
        "    side_b = math.dist(point2, point3)\n",
        "    side_c = math.dist(point3, point1)\n",
        "\n",
        "    # Вычисление углов треугольника с помощью формулы косинусов\n",
        "    angle_A = math.degrees(math.acos((side_c**2 + side_a**2 - side_b**2) / (2 * side_c * side_a)))\n",
        "    angle_B = math.degrees(math.acos((side_a**2 + side_b**2 - side_c**2) / (2 * side_a * side_b)))\n",
        "    angle_C = math.degrees(math.acos((side_b**2 + side_c**2 - side_a**2) / (2 * side_b * side_c)))\n",
        "\n",
        "    return angle_A, angle_B, angle_C, (side_a, side_b, side_c)\n",
        "\n",
        "# Пример использования функции\n",
        "point1 = [0, 0, 0]\n",
        "point2 = [1, 0, 0]\n",
        "point3 = [0, 1, 0]\n",
        "\n",
        "triangle_angles = calculate_triangle_angles(point1, point2, point3)\n",
        "print(triangle_angles)"
      ]
    },
    {
      "cell_type": "code",
      "source": [
        "# @title Функция предобработки видео и формирование CSV.\n",
        "\n",
        "def Preprocessing_Video(file_name_video_in, # Путь к входному видео\n",
        "                        list_angles, # Список углов\n",
        "                        file_name_video_out='video_out.mp4', # Путь к выходному видео):\n",
        "                       ):\n",
        "    # Счетчик кадров\n",
        "    num_frame = 0\n",
        "\n",
        "    # Характеристики модели, описывающей объект исследования\n",
        "    landmarks = []\n",
        "\n",
        "    # Определяем количество кадров в видеофайле\n",
        "    video = VideoFileClip(file_name_video_in)\n",
        "    count_frames = int(video.reader.nframes)\n",
        "\n",
        "    # Список углов для описания тела человека\n",
        "    angles = list_angles\n",
        "\n",
        "    # Список колонок DataFrame\n",
        "    columns = [f'ang_{i}_({col[1]})' for i, col in enumerate(angles)]\n",
        "\n",
        "    df_ang = pd.DataFrame([], columns=columns)\n",
        "\n",
        "    #--------------------------------------------------\n",
        "    cap = cv2.VideoCapture(file_name_video_in)\n",
        "    frame_width = int(cap.get(cv2.CAP_PROP_FRAME_WIDTH))\n",
        "    frame_height = int(cap.get(cv2.CAP_PROP_FRAME_HEIGHT))\n",
        "    fps = cap.get(cv2.CAP_PROP_FPS)\n",
        "    #--------------------------------------------------\n",
        "    # fourcc = cv2.VideoWriter_fourcc(*'XVID')\n",
        "    # out = cv2.VideoWriter(file_name_video_out, fourcc, fps, (frame_width, frame_height))\n",
        "\n",
        "    fourcc = cv2.VideoWriter_fourcc(*'mp4v')\n",
        "    out = cv2.VideoWriter(file_name_video_out, fourcc, fps, (frame_width, frame_height))\n",
        "\n",
        "    with mp.solutions.holistic.Holistic(min_detection_confidence=0.5, min_tracking_confidence=0.5) as holistic:\n",
        "\n",
        "        while cap.isOpened():\n",
        "            ret, frame = cap.read()\n",
        "            if not ret:\n",
        "                break\n",
        "\n",
        "            image = cv2.cvtColor(frame, cv2.COLOR_BGR2RGB)\n",
        "            image.flags.writeable = False\n",
        "\n",
        "            results = holistic.process(image)\n",
        "            image.flags.writeable = True\n",
        "            image = cv2.cvtColor(image, cv2.COLOR_RGB2BGR)\n",
        "\n",
        "            # Pose Detections\n",
        "            mp_drawing.draw_landmarks(image, results.pose_landmarks, mp_holistic.POSE_CONNECTIONS,\n",
        "                                        mp_drawing.DrawingSpec(color=(245,117,66), thickness=2, circle_radius=4),\n",
        "                                        mp_drawing.DrawingSpec(color=(245,66,230), thickness=2, circle_radius=2)\n",
        "                                        )\n",
        "\n",
        "\n",
        "            try:\n",
        "                pose = results.pose_landmarks.landmark\n",
        "                # pose_row = list(np.array([[landmark.x, landmark.y, landmark.z, landmark.visibility] for landmark in pose]).flatten())\n",
        "    #-------------------------------------------------\n",
        "                angle_values = []\n",
        "\n",
        "                for angle_list in angles:\n",
        "                    i, j, k = angle_list\n",
        "                    Point_First = [pose[i].x, pose[i].y, pose[i].z]\n",
        "                    Point_Mid = [pose[j].x, pose[j].y, pose[j].z]\n",
        "                    Point_End = [pose[k].x, pose[k].y, pose[k].z]\n",
        "\n",
        "                    calc_angle = calculate_triangle_angles(Point_First, Point_Mid, Point_End)\n",
        "\n",
        "                    angle_values.append(calc_angle[1])\n",
        "\n",
        "                new_row = pd.Series(angle_values, index=df_ang.columns)\n",
        "                # print('new_row', new_row)\n",
        "                # df_ang = df_ang.append(new_row, ignore_index=True)\n",
        "                df_new = pd.DataFrame([new_row])\n",
        "\n",
        "                df_ang = pd.concat([df_ang, df_new], ignore_index=True)\n",
        "\n",
        "            except Exception as e:\n",
        "                print(f\"Произошла ошибка: {e}\")\n",
        "\n",
        "            # Запись в видео\n",
        "            out.write(image)\n",
        "\n",
        "            num_frame +=1\n",
        "\n",
        "            if cv2.waitKey(10) & 0xFF == ord('q'):\n",
        "                break\n",
        "\n",
        "    # df_ang.to_csv(file_name_csv_angles, index=False)\n",
        "\n",
        "    return df_ang\n",
        "\n",
        "    cap.release()\n",
        "    cv2.destroyAllWindows()\n"
      ],
      "metadata": {
        "id": "i5DsftQXtg7A"
      },
      "execution_count": null,
      "outputs": []
    },
    {
      "cell_type": "code",
      "source": [
        "# @title Функция классификации удара\n",
        "\n",
        "def Kicks_Classificator(predict):\n",
        "    # Подсчет частоты появления каждого класса\n",
        "    unique_classes, class_counts = np.unique(predict, return_counts=True)\n",
        "    class_frequencies = dict(zip(unique_classes, class_counts))\n",
        "\n",
        "    # Выбор класса с наибольшей частотой появления\n",
        "    most_common_class = unique_classes[np.argmax(class_counts)]\n",
        "\n",
        "    print(\"Частоты появления каждого класса:\")\n",
        "    print(class_frequencies)\n",
        "\n",
        "    print(\"Класс с наибольшей частотой появления:\")\n",
        "    print(most_common_class)\n",
        "\n",
        "    # Удары\n",
        "    kicks = {1: '001-ГЕДАН БАРАЙ (БЛОК ПЕРЕДНЕЙ РУКОЙ)',\n",
        "             2: '002-ГЬЯКУ ДЗУКИ (ПРЯМОЙ УДАР ЗАДНЕЙ РУКОЙ)',\n",
        "             3: '003-КИДЗАМИ ДЗУКИ (ПРЯМОЙ УДАР ПЕРЕДНЕЙ РУКОЙ)',\n",
        "             4: '004-МАВАШИ  ДЗУКИ (КРУГОВОЙ УДАР ЗАДНЕЙ РУКОЙ)',\n",
        "             5: '005-МАВАШИ ГЕРИ  (КРУГОВОЙ УДАР ЗАДНЕЙ НОГОЙ)',\n",
        "             6: '006-МАЙ ГЕРИ КЕАГЕ (ПРЯМОЙ УДАР ЗАДНЕЙ НОГОЙ)',\n",
        "             7: '007-СОТО УКЕ (БЛОК ПЕРЕДНЕЙ РУКОЙ)',\n",
        "             8: '008-УРА МАВАШИ ГЕРИ (ОБРАТНЫЙ КРУГОВОЙ  УДАР ЗАДНЕЙ НОГОЙ)',\n",
        "             9: '009-УРАКЕН УЧИ (КРУГОВОЙ УДАР ПЕРЕДНЕЙ РУКОЙ)',\n",
        "             10: '010-УЧИ УКЕ (БЛОК ПЕРЕДНЕЙ РУКОЙ)'\n",
        "            }\n",
        "    kick = kicks[most_common_class]\n",
        "    print('---------------------')\n",
        "    print(f'Вы выполнили: {kick}')"
      ],
      "metadata": {
        "id": "Jfb0kATLu1RV"
      },
      "execution_count": null,
      "outputs": []
    },
    {
      "cell_type": "code",
      "source": [
        "#====================================================================\n",
        "# @title 2.2 РЕЗУЛЬТАТ ПРЕДСКАЗАНИЯ.\n",
        "#===================================================================="
      ],
      "metadata": {
        "id": "SNtfeCShN3_x"
      },
      "execution_count": null,
      "outputs": []
    },
    {
      "cell_type": "markdown",
      "source": [
        "**Это пока тестовый режим с отладочной информацией. Потом все `print()` закоментируем и будем писать ошибки в `LOG-файл`. На тестовых видео несколько ударов подряд, но они одинаковые, поэтому классификацияя работает! Надо сиамской бить на удары, чтобы наверняка! Тогда возможна классификация связок ударов!**"
      ],
      "metadata": {
        "id": "_BOsWQrpQCig"
      }
    },
    {
      "cell_type": "code",
      "source": [
        "%%time\n",
        "ls_file = ['test0_video.mp4','test1_video.mp4', 'test2_video.mp4', 'test3_video.mp4', 'test4_video.mp4', 'test5_video.mp4'] + \\\n",
        "['test6_video.mp4','test7_video.mp4', 'test8_video.mp4', 'test9_video.mp4']\n",
        "print('===================================')\n",
        "for i, f in enumerate(ls_file):\n",
        "    video_out = f'video_out_{i}.mp4'\n",
        "    print('===================================')\n",
        "    print(f'{f}')\n",
        "    print(f'{video_out}')\n",
        "    print('===================================')\n",
        "    df_load = Preprocessing_Video(f, angles_Igor_Rybin, video_out)\n",
        "\n",
        "    print('-----------------------------------')\n",
        "    # Классификация \"Случайный лес\"\n",
        "    class_predict_rf = fit_models['rf'].predict(df_load)\n",
        "    # print(class_predict_rf)\n",
        "\n",
        "    # РЕЗУЛЬТАТ РАСПОЗНАВАНИЯ УДАРА\n",
        "    print(\"Случайный лес\")\n",
        "    Kicks_Classificator(class_predict_rf)\n",
        "    print('-----------------------------------')\n",
        "    # Классификация \"Метод k ближайших соседей\"\n",
        "    class_predict_kn = fit_models['kn'].predict(df_load)\n",
        "    # print(class_predict_kn)\n",
        "\n",
        "    # РЕЗУЛЬТАТ РАСПОЗНАВАНИЯ УДАРА\n",
        "    print(\"Метод k ближайших соседей\")\n",
        "    Kicks_Classificator(class_predict_kn)\n",
        "    print('-----------------------------------')\n",
        "print('===================================')"
      ],
      "metadata": {
        "id": "Fumzwl0zEGKy"
      },
      "execution_count": null,
      "outputs": []
    },
    {
      "cell_type": "markdown",
      "source": [
        "## **Работа с моделью**."
      ],
      "metadata": {
        "id": "_F5I0lkqzDgP"
      }
    },
    {
      "cell_type": "code",
      "source": [
        "# @title Сохраняем архитектуру и веса модели\n",
        "\n",
        "with open('rf_kiks.pkl', 'wb') as f:\n",
        "    pickle.dump(fit_models['rf'], f)"
      ],
      "metadata": {
        "id": "ECsAZ_5bIBus"
      },
      "execution_count": null,
      "outputs": []
    },
    {
      "cell_type": "code",
      "source": [
        "# @title Загружаем архитектуру и веса модели\n",
        "\n",
        "with open('rf_kiks.pkl', 'rb') as f:\n",
        "    model = pickle.load(f)"
      ],
      "metadata": {
        "id": "tSKLvBI6IEr7"
      },
      "execution_count": null,
      "outputs": []
    },
    {
      "cell_type": "code",
      "source": [
        "# @title Файлы входные и обработаные\n",
        "f  = '02_f_bb_01_03.mp4'\n",
        "video_out = 'out_video.mp4'"
      ],
      "metadata": {
        "id": "ohjk1kvayFvf"
      },
      "execution_count": null,
      "outputs": []
    },
    {
      "cell_type": "code",
      "source": [
        "# @title Загружаем видео для предобработки (перевод в df: 1 кадр - 1 строка)\n",
        "\n",
        "df_load = Preprocessing_Video(f, angles_Igor_Rybin, video_out)"
      ],
      "metadata": {
        "id": "zYEIZ06oyUun"
      },
      "execution_count": null,
      "outputs": []
    },
    {
      "cell_type": "code",
      "source": [
        "# @title Получаем значения классификации каждого кадра\n",
        "\n",
        "predict_rf = model.predict(df_load)"
      ],
      "metadata": {
        "id": "AFvPumudxROo"
      },
      "execution_count": null,
      "outputs": []
    },
    {
      "cell_type": "code",
      "source": [
        "# @title Самый часто встречающийся класс и будет результатом классификации удара\n",
        "\n",
        "Kicks_Classificator(predict_rf)"
      ],
      "metadata": {
        "colab": {
          "base_uri": "https://localhost:8080/"
        },
        "id": "xlAFWkCCzUf6",
        "outputId": "15cfab75-07dc-4f25-b635-dbfe0e6d6fef"
      },
      "execution_count": null,
      "outputs": [
        {
          "output_type": "stream",
          "name": "stdout",
          "text": [
            "Частоты появления каждого класса:\n",
            "{1: 1, 2: 42, 6: 1, 9: 1}\n",
            "Класс с наибольшей частотой появления:\n",
            "2\n",
            "---------------------\n",
            "Вы выполнили: 002-ГЬЯКУ ДЗУКИ (ПРЯМОЙ УДАР ЗАДНЕЙ РУКОЙ)\n"
          ]
        }
      ]
    }
  ]
}